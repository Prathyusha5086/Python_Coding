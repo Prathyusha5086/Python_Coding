{
  "nbformat": 4,
  "nbformat_minor": 0,
  "metadata": {
    "colab": {
      "name": "PythonforDataEngineering.ipynb",
      "provenance": [],
      "authorship_tag": "ABX9TyMGTo/1oe9qC3Q0VWSe5VQM",
      "include_colab_link": true
    },
    "kernelspec": {
      "name": "python3",
      "display_name": "Python 3"
    },
    "language_info": {
      "name": "python"
    }
  },
  "cells": [
    {
      "cell_type": "markdown",
      "metadata": {
        "id": "view-in-github",
        "colab_type": "text"
      },
      "source": [
        "<a href=\"https://colab.research.google.com/github/Prathyusha5086/Python_Coding/blob/master/PythonforDataEngineering.ipynb\" target=\"_parent\"><img src=\"https://colab.research.google.com/assets/colab-badge.svg\" alt=\"Open In Colab\"/></a>"
      ]
    },
    {
      "cell_type": "markdown",
      "source": [
        "**Example program**"
      ],
      "metadata": {
        "id": "8HrxX6ldDVXH"
      }
    },
    {
      "cell_type": "code",
      "execution_count": 1,
      "metadata": {
        "colab": {
          "base_uri": "https://localhost:8080/"
        },
        "id": "2zrKDFO1BDxe",
        "outputId": "23e9cc91-dc1e-4b64-96a3-0daefd3a417d"
      },
      "outputs": [
        {
          "output_type": "stream",
          "name": "stdout",
          "text": [
            "Hello\n"
          ]
        }
      ],
      "source": [
        "print(\"Hello\")"
      ]
    },
    {
      "cell_type": "markdown",
      "source": [
        "**Keyword Library**"
      ],
      "metadata": {
        "id": "45CjT8EHS993"
      }
    },
    {
      "cell_type": "code",
      "source": [
        "#Example for Keyword library, to print all the Keywords in Python\n",
        "import keyword\n",
        "print(\"Below is the list of keywords in python: \")\n",
        "print (keyword.kwlist)"
      ],
      "metadata": {
        "colab": {
          "base_uri": "https://localhost:8080/"
        },
        "id": "5VKxNI4bTJoJ",
        "outputId": "75c4f331-6499-407d-91cf-40787083c7f5"
      },
      "execution_count": 3,
      "outputs": [
        {
          "output_type": "stream",
          "name": "stdout",
          "text": [
            "Below is the list of keywords in python: \n",
            "['False', 'None', 'True', 'and', 'as', 'assert', 'async', 'await', 'break', 'class', 'continue', 'def', 'del', 'elif', 'else', 'except', 'finally', 'for', 'from', 'global', 'if', 'import', 'in', 'is', 'lambda', 'nonlocal', 'not', 'or', 'pass', 'raise', 'return', 'try', 'while', 'with', 'yield']\n"
          ]
        }
      ]
    },
    {
      "cell_type": "markdown",
      "source": [
        "**True, False and None Keyword**"
      ],
      "metadata": {
        "id": "I69Yx2NBYP2D"
      }
    },
    {
      "cell_type": "code",
      "source": [
        "# Examples for True, False and None Keywords\n",
        "\n",
        "print(False == 0)\n",
        "print(True == 1)\n",
        "print(True+True+True)\n",
        "print(False+True+False)\n",
        "print(None == 0)\n",
        "print(None == [])\n",
        "\n",
        "# to check what the output is\n",
        "def logicalOperator():\n",
        "  return 0 and 10\n",
        "\n",
        "print (logicalOperator)"
      ],
      "metadata": {
        "colab": {
          "base_uri": "https://localhost:8080/"
        },
        "id": "BsJ3EDOsYVMc",
        "outputId": "4f65cedc-e95a-41c3-a733-da5a62b5c841"
      },
      "execution_count": 7,
      "outputs": [
        {
          "output_type": "stream",
          "name": "stdout",
          "text": [
            "True\n",
            "True\n",
            "3\n",
            "1\n",
            "False\n",
            "False\n",
            "<function logicalOperator at 0x7f69b0f518c0>\n"
          ]
        }
      ]
    },
    {
      "cell_type": "markdown",
      "source": [
        "is: This keyword is used to test object identity, i.e to check if both the objects take the same memory location or not. "
      ],
      "metadata": {
        "id": "Lovmv5GThmNu"
      }
    },
    {
      "cell_type": "markdown",
      "source": [
        "**Carriage Return (\\r)**"
      ],
      "metadata": {
        "id": "13O6pMVMlqy6"
      }
    },
    {
      "cell_type": "code",
      "source": [
        "#Example for Carriage return\n",
        "print(\"Hello world\")\n",
        "print(\"Hello world \\r Hi\")\n",
        "print(r'\\r') # how does this work?"
      ],
      "metadata": {
        "colab": {
          "base_uri": "https://localhost:8080/"
        },
        "id": "oCIWay6Rlwuh",
        "outputId": "7b392073-d3c5-4950-b742-d67a5c9294aa"
      },
      "execution_count": 10,
      "outputs": [
        {
          "output_type": "stream",
          "name": "stdout",
          "text": [
            "Hello world\n",
            "Hello world \r Hi\n",
            "\\r\n"
          ]
        }
      ]
    }
  ]
}